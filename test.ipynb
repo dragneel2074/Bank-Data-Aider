{
 "cells": [
  {
   "cell_type": "code",
   "execution_count": 2,
   "metadata": {},
   "outputs": [],
   "source": [
    "import pandas as pd"
   ]
  },
  {
   "cell_type": "code",
   "execution_count": 4,
   "metadata": {},
   "outputs": [],
   "source": [
    "df = pd.read_csv('data/output1.csv')\n"
   ]
  },
  {
   "cell_type": "code",
   "execution_count": 5,
   "metadata": {},
   "outputs": [
    {
     "data": {
      "text/html": [
       "<div>\n",
       "<style scoped>\n",
       "    .dataframe tbody tr th:only-of-type {\n",
       "        vertical-align: middle;\n",
       "    }\n",
       "\n",
       "    .dataframe tbody tr th {\n",
       "        vertical-align: top;\n",
       "    }\n",
       "\n",
       "    .dataframe thead th {\n",
       "        text-align: right;\n",
       "    }\n",
       "</style>\n",
       "<table border=\"1\" class=\"dataframe\">\n",
       "  <thead>\n",
       "    <tr style=\"text-align: right;\">\n",
       "      <th></th>\n",
       "      <th>CustomerID</th>\n",
       "      <th>Gender</th>\n",
       "      <th>Age</th>\n",
       "      <th>LastTransactionDate</th>\n",
       "      <th>CurrentBalance</th>\n",
       "      <th>TransactionCount</th>\n",
       "      <th>TotalTransactionAmount</th>\n",
       "    </tr>\n",
       "  </thead>\n",
       "  <tbody>\n",
       "    <tr>\n",
       "      <th>0</th>\n",
       "      <td>C6624352</td>\n",
       "      <td>M</td>\n",
       "      <td>34</td>\n",
       "      <td>2016-09-27</td>\n",
       "      <td>152832.32</td>\n",
       "      <td>6</td>\n",
       "      <td>8375.74</td>\n",
       "    </tr>\n",
       "    <tr>\n",
       "      <th>1</th>\n",
       "      <td>C3226689</td>\n",
       "      <td>M</td>\n",
       "      <td>26</td>\n",
       "      <td>2016-09-30</td>\n",
       "      <td>96820.46</td>\n",
       "      <td>6</td>\n",
       "      <td>14758.39</td>\n",
       "    </tr>\n",
       "    <tr>\n",
       "      <th>2</th>\n",
       "      <td>C1026833</td>\n",
       "      <td>M</td>\n",
       "      <td>22</td>\n",
       "      <td>2016-08-31</td>\n",
       "      <td>118800.14</td>\n",
       "      <td>6</td>\n",
       "      <td>3336.00</td>\n",
       "    </tr>\n",
       "    <tr>\n",
       "      <th>3</th>\n",
       "      <td>C6222360</td>\n",
       "      <td>F</td>\n",
       "      <td>24</td>\n",
       "      <td>2016-12-09</td>\n",
       "      <td>5270.90</td>\n",
       "      <td>6</td>\n",
       "      <td>5825.00</td>\n",
       "    </tr>\n",
       "    <tr>\n",
       "      <th>4</th>\n",
       "      <td>C6735477</td>\n",
       "      <td>M</td>\n",
       "      <td>26</td>\n",
       "      <td>2016-12-09</td>\n",
       "      <td>12729.49</td>\n",
       "      <td>6</td>\n",
       "      <td>2504.00</td>\n",
       "    </tr>\n",
       "  </tbody>\n",
       "</table>\n",
       "</div>"
      ],
      "text/plain": [
       "  CustomerID Gender  Age LastTransactionDate  CurrentBalance  \\\n",
       "0   C6624352      M   34          2016-09-27       152832.32   \n",
       "1   C3226689      M   26          2016-09-30        96820.46   \n",
       "2   C1026833      M   22          2016-08-31       118800.14   \n",
       "3   C6222360      F   24          2016-12-09         5270.90   \n",
       "4   C6735477      M   26          2016-12-09        12729.49   \n",
       "\n",
       "   TransactionCount  TotalTransactionAmount  \n",
       "0                 6                 8375.74  \n",
       "1                 6                14758.39  \n",
       "2                 6                 3336.00  \n",
       "3                 6                 5825.00  \n",
       "4                 6                 2504.00  "
      ]
     },
     "execution_count": 5,
     "metadata": {},
     "output_type": "execute_result"
    }
   ],
   "source": [
    "df.head()"
   ]
  },
  {
   "cell_type": "code",
   "execution_count": 6,
   "metadata": {},
   "outputs": [
    {
     "name": "stdout",
     "output_type": "stream",
     "text": [
      "<class 'pandas.core.frame.DataFrame'>\n",
      "RangeIndex: 100000 entries, 0 to 99999\n",
      "Data columns (total 7 columns):\n",
      " #   Column                  Non-Null Count   Dtype  \n",
      "---  ------                  --------------   -----  \n",
      " 0   CustomerID              100000 non-null  object \n",
      " 1   Gender                  100000 non-null  object \n",
      " 2   Age                     100000 non-null  int64  \n",
      " 3   LastTransactionDate     100000 non-null  object \n",
      " 4   CurrentBalance          100000 non-null  float64\n",
      " 5   TransactionCount        100000 non-null  int64  \n",
      " 6   TotalTransactionAmount  100000 non-null  float64\n",
      "dtypes: float64(2), int64(2), object(3)\n",
      "memory usage: 5.3+ MB\n"
     ]
    }
   ],
   "source": [
    "df.info()"
   ]
  },
  {
   "cell_type": "code",
   "execution_count": 7,
   "metadata": {},
   "outputs": [
    {
     "data": {
      "text/plain": [
       "dtype('O')"
      ]
     },
     "execution_count": 7,
     "metadata": {},
     "output_type": "execute_result"
    }
   ],
   "source": [
    "df['LastTransactionDate'].dtype"
   ]
  },
  {
   "cell_type": "code",
   "execution_count": 8,
   "metadata": {},
   "outputs": [],
   "source": [
    "def safe_to_datetime(col):\n",
    "    \"\"\"Attempt to convert a Series to datetime, using errors='coerce'. If conversion yields all NaT, return the original column.\"\"\"\n",
    "    try:\n",
    "        converted = pd.to_datetime(col, errors='coerce')\n",
    "        # If a significant number of values were converted, return the converted series\n",
    "        if converted.notna().sum() > 0:\n",
    "            print(f\"DEBUG: Converted column to datetime with {converted.notna().sum()} non-NaT values.\")\n",
    "            return converted\n",
    "        else:\n",
    "            print(\"DEBUG: Conversion resulted in all NaT, returning original column.\")\n",
    "            return col\n",
    "    except Exception as e:\n",
    "        print(f\"DEBUG: safe_to_datetime conversion error: {e}\")\n",
    "        return col"
   ]
  },
  {
   "cell_type": "code",
   "execution_count": 9,
   "metadata": {},
   "outputs": [
    {
     "name": "stdout",
     "output_type": "stream",
     "text": [
      "DEBUG: Converted column to datetime with 100000 non-NaT values.\n"
     ]
    }
   ],
   "source": [
    "df['LastTransactionDate_changed'] = safe_to_datetime(df['LastTransactionDate'])"
   ]
  },
  {
   "cell_type": "code",
   "execution_count": 11,
   "metadata": {},
   "outputs": [
    {
     "data": {
      "text/plain": [
       "dtype('<M8[ns]')"
      ]
     },
     "execution_count": 11,
     "metadata": {},
     "output_type": "execute_result"
    }
   ],
   "source": [
    "df['LastTransactionDate_changed'].dtype"
   ]
  },
  {
   "cell_type": "code",
   "execution_count": null,
   "metadata": {},
   "outputs": [],
   "source": []
  }
 ],
 "metadata": {
  "kernelspec": {
   "display_name": "simple_ml_env",
   "language": "python",
   "name": "python3"
  },
  "language_info": {
   "codemirror_mode": {
    "name": "ipython",
    "version": 3
   },
   "file_extension": ".py",
   "mimetype": "text/x-python",
   "name": "python",
   "nbconvert_exporter": "python",
   "pygments_lexer": "ipython3",
   "version": "3.13.2"
  }
 },
 "nbformat": 4,
 "nbformat_minor": 2
}
