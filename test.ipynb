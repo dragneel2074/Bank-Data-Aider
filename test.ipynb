{
 "cells": [
  {
   "cell_type": "code",
   "execution_count": 1,
   "metadata": {},
   "outputs": [],
   "source": [
    "import pandas as pd"
   ]
  },
  {
   "cell_type": "code",
   "execution_count": 2,
   "metadata": {},
   "outputs": [],
   "source": [
    "df = pd.read_csv('data/output1.csv')\n"
   ]
  },
  {
   "cell_type": "code",
   "execution_count": 3,
   "metadata": {},
   "outputs": [
    {
     "data": {
      "text/html": [
       "<div>\n",
       "<style scoped>\n",
       "    .dataframe tbody tr th:only-of-type {\n",
       "        vertical-align: middle;\n",
       "    }\n",
       "\n",
       "    .dataframe tbody tr th {\n",
       "        vertical-align: top;\n",
       "    }\n",
       "\n",
       "    .dataframe thead th {\n",
       "        text-align: right;\n",
       "    }\n",
       "</style>\n",
       "<table border=\"1\" class=\"dataframe\">\n",
       "  <thead>\n",
       "    <tr style=\"text-align: right;\">\n",
       "      <th></th>\n",
       "      <th>CustomerID</th>\n",
       "      <th>Gender</th>\n",
       "      <th>Age</th>\n",
       "      <th>LastTransactionDate</th>\n",
       "      <th>CurrentBalance</th>\n",
       "      <th>TransactionCount</th>\n",
       "      <th>TotalTransactionAmount</th>\n",
       "    </tr>\n",
       "  </thead>\n",
       "  <tbody>\n",
       "    <tr>\n",
       "      <th>0</th>\n",
       "      <td>C6624352</td>\n",
       "      <td>M</td>\n",
       "      <td>34</td>\n",
       "      <td>2016-09-27</td>\n",
       "      <td>152832.32</td>\n",
       "      <td>6</td>\n",
       "      <td>8375.74</td>\n",
       "    </tr>\n",
       "    <tr>\n",
       "      <th>1</th>\n",
       "      <td>C3226689</td>\n",
       "      <td>M</td>\n",
       "      <td>26</td>\n",
       "      <td>2016-09-30</td>\n",
       "      <td>96820.46</td>\n",
       "      <td>6</td>\n",
       "      <td>14758.39</td>\n",
       "    </tr>\n",
       "    <tr>\n",
       "      <th>2</th>\n",
       "      <td>C1026833</td>\n",
       "      <td>M</td>\n",
       "      <td>22</td>\n",
       "      <td>2016-08-31</td>\n",
       "      <td>118800.14</td>\n",
       "      <td>6</td>\n",
       "      <td>3336.00</td>\n",
       "    </tr>\n",
       "    <tr>\n",
       "      <th>3</th>\n",
       "      <td>C6222360</td>\n",
       "      <td>F</td>\n",
       "      <td>24</td>\n",
       "      <td>2016-12-09</td>\n",
       "      <td>5270.90</td>\n",
       "      <td>6</td>\n",
       "      <td>5825.00</td>\n",
       "    </tr>\n",
       "    <tr>\n",
       "      <th>4</th>\n",
       "      <td>C6735477</td>\n",
       "      <td>M</td>\n",
       "      <td>26</td>\n",
       "      <td>2016-12-09</td>\n",
       "      <td>12729.49</td>\n",
       "      <td>6</td>\n",
       "      <td>2504.00</td>\n",
       "    </tr>\n",
       "  </tbody>\n",
       "</table>\n",
       "</div>"
      ],
      "text/plain": [
       "  CustomerID Gender  Age LastTransactionDate  CurrentBalance  \\\n",
       "0   C6624352      M   34          2016-09-27       152832.32   \n",
       "1   C3226689      M   26          2016-09-30        96820.46   \n",
       "2   C1026833      M   22          2016-08-31       118800.14   \n",
       "3   C6222360      F   24          2016-12-09         5270.90   \n",
       "4   C6735477      M   26          2016-12-09        12729.49   \n",
       "\n",
       "   TransactionCount  TotalTransactionAmount  \n",
       "0                 6                 8375.74  \n",
       "1                 6                14758.39  \n",
       "2                 6                 3336.00  \n",
       "3                 6                 5825.00  \n",
       "4                 6                 2504.00  "
      ]
     },
     "execution_count": 3,
     "metadata": {},
     "output_type": "execute_result"
    }
   ],
   "source": [
    "df.head()"
   ]
  },
  {
   "cell_type": "code",
   "execution_count": 4,
   "metadata": {},
   "outputs": [
    {
     "name": "stdout",
     "output_type": "stream",
     "text": [
      "<class 'pandas.core.frame.DataFrame'>\n",
      "RangeIndex: 100000 entries, 0 to 99999\n",
      "Data columns (total 7 columns):\n",
      " #   Column                  Non-Null Count   Dtype  \n",
      "---  ------                  --------------   -----  \n",
      " 0   CustomerID              100000 non-null  object \n",
      " 1   Gender                  100000 non-null  object \n",
      " 2   Age                     100000 non-null  int64  \n",
      " 3   LastTransactionDate     100000 non-null  object \n",
      " 4   CurrentBalance          100000 non-null  float64\n",
      " 5   TransactionCount        100000 non-null  int64  \n",
      " 6   TotalTransactionAmount  100000 non-null  float64\n",
      "dtypes: float64(2), int64(2), object(3)\n",
      "memory usage: 5.3+ MB\n"
     ]
    }
   ],
   "source": [
    "df.info()"
   ]
  },
  {
   "cell_type": "code",
   "execution_count": 5,
   "metadata": {},
   "outputs": [
    {
     "data": {
      "text/plain": [
       "dtype('O')"
      ]
     },
     "execution_count": 5,
     "metadata": {},
     "output_type": "execute_result"
    }
   ],
   "source": [
    "df['LastTransactionDate'].dtype"
   ]
  },
  {
   "cell_type": "code",
   "execution_count": 6,
   "metadata": {},
   "outputs": [],
   "source": [
    "def safe_to_datetime(col):\n",
    "    \"\"\"Attempt to convert a Series to datetime, using errors='coerce'. If conversion yields all NaT, return the original column.\"\"\"\n",
    "    try:\n",
    "        converted = pd.to_datetime(col, errors='coerce')\n",
    "        # If a significant number of values were converted, return the converted series\n",
    "        if converted.notna().sum() > 0:\n",
    "            print(f\"DEBUG: Converted column to datetime with {converted.notna().sum()} non-NaT values.\")\n",
    "            return converted\n",
    "        else:\n",
    "            print(\"DEBUG: Conversion resulted in all NaT, returning original column.\")\n",
    "            return col\n",
    "    except Exception as e:\n",
    "        print(f\"DEBUG: safe_to_datetime conversion error: {e}\")\n",
    "        return col"
   ]
  },
  {
   "cell_type": "code",
   "execution_count": 7,
   "metadata": {},
   "outputs": [
    {
     "name": "stdout",
     "output_type": "stream",
     "text": [
      "DEBUG: Converted column to datetime with 100000 non-NaT values.\n"
     ]
    }
   ],
   "source": [
    "df['LastTransactionDate_changed'] = safe_to_datetime(df['LastTransactionDate'])"
   ]
  },
  {
   "cell_type": "code",
   "execution_count": 8,
   "metadata": {},
   "outputs": [
    {
     "data": {
      "text/plain": [
       "dtype('<M8[ns]')"
      ]
     },
     "execution_count": 8,
     "metadata": {},
     "output_type": "execute_result"
    }
   ],
   "source": [
    "df['LastTransactionDate_changed'].dtype"
   ]
  },
  {
   "cell_type": "code",
   "execution_count": 9,
   "metadata": {},
   "outputs": [],
   "source": [
    "rmf = pd.read_csv('rmf_results.csv')\n"
   ]
  },
  {
   "cell_type": "code",
   "execution_count": 10,
   "metadata": {},
   "outputs": [
    {
     "data": {
      "text/plain": [
       "(100000, 17)"
      ]
     },
     "execution_count": 10,
     "metadata": {},
     "output_type": "execute_result"
    }
   ],
   "source": [
    "rmf.shape"
   ]
  },
  {
   "cell_type": "code",
   "execution_count": 11,
   "metadata": {},
   "outputs": [],
   "source": [
    "full = pd.read_csv('data/output.csv')\n"
   ]
  },
  {
   "cell_type": "code",
   "execution_count": 12,
   "metadata": {},
   "outputs": [
    {
     "data": {
      "text/plain": [
       "(838456, 7)"
      ]
     },
     "execution_count": 12,
     "metadata": {},
     "output_type": "execute_result"
    }
   ],
   "source": [
    "full.shape"
   ]
  },
  {
   "cell_type": "code",
   "execution_count": 13,
   "metadata": {},
   "outputs": [
    {
     "data": {
      "text/plain": [
       "Index(['CustomerID', 'Gender', 'Age', 'LastTransactionDate', 'CurrentBalance',\n",
       "       'TransactionCount', 'TotalTransactionAmount', 'LastTransactionDate.1',\n",
       "       'TransactionCount.1', 'TotalTransactionAmount.1', 'recency_days',\n",
       "       'R_Score', 'F_Score', 'M_Score', 'RMF_Score', 'RMF_Overall',\n",
       "       'Segment_Description'],\n",
       "      dtype='object')"
      ]
     },
     "execution_count": 13,
     "metadata": {},
     "output_type": "execute_result"
    }
   ],
   "source": [
    "rmf.columns"
   ]
  },
  {
   "cell_type": "code",
   "execution_count": 14,
   "metadata": {},
   "outputs": [
    {
     "data": {
      "text/plain": [
       "Index(['CustomerID', 'Gender', 'Age', 'LastTransactionDate', 'CurrentBalance',\n",
       "       'TransactionCount', 'TotalTransactionAmount'],\n",
       "      dtype='object')"
      ]
     },
     "execution_count": 14,
     "metadata": {},
     "output_type": "execute_result"
    }
   ],
   "source": [
    "full.columns\n"
   ]
  },
  {
   "cell_type": "code",
   "execution_count": 15,
   "metadata": {},
   "outputs": [
    {
     "name": "stdout",
     "output_type": "stream",
     "text": [
      "  CustomerID_x Gender_x  Age_x LastTransactionDate  CurrentBalance_x  \\\n",
      "0     C6624352        M     34          2016-09-27         152832.32   \n",
      "1     C3226689        M     26          2016-09-30          96820.46   \n",
      "2     C1026833        M     22          2016-08-31         118800.14   \n",
      "3     C6222360        F     24          2016-12-09           5270.90   \n",
      "4     C6735477        M     26          2016-12-09          12729.49   \n",
      "\n",
      "   TransactionCount  TotalTransactionAmount CustomerID_y Gender_y  Age_y  ...  \\\n",
      "0                 6                 8375.74     C6624352        M     34  ...   \n",
      "1                 6                14758.39     C3226689        M     26  ...   \n",
      "2                 6                 3336.00     C1026833        M     22  ...   \n",
      "3                 6                 5825.00     C6222360        F     24  ...   \n",
      "4                 6                 2504.00     C6735477        M     26  ...   \n",
      "\n",
      "   LastTransactionDate.1 TransactionCount.1  TotalTransactionAmount.1  \\\n",
      "0             2016-09-27                  6                   8375.74   \n",
      "1             2016-09-30                  6                  14758.39   \n",
      "2             2016-08-31                  6                   3336.00   \n",
      "3             2016-12-09                  6                   5825.00   \n",
      "4             2016-12-09                  6                   2504.00   \n",
      "\n",
      "   recency_days  R_Score  F_Score  M_Score  RMF_Score  RMF_Overall  \\\n",
      "0            73        4        5        5        455     4.666667   \n",
      "1            70        4        5        5        455     4.666667   \n",
      "2           100        3        5        4        354     4.000000   \n",
      "3             0        5        5        5        555     5.000000   \n",
      "4             0        5        5        4        554     4.666667   \n",
      "\n",
      "   Segment_Description  \n",
      "0            Champions  \n",
      "1            Champions  \n",
      "2            Champions  \n",
      "3            Champions  \n",
      "4            Champions  \n",
      "\n",
      "[5 rows x 21 columns]\n"
     ]
    }
   ],
   "source": [
    "import pandas as pd\n",
    "\n",
    "# Assuming df_rmf contains the first dataset and df_full contains the second dataset\n",
    "df_merged = pd.merge(full, rmf, on=['LastTransactionDate', 'TransactionCount', 'TotalTransactionAmount'], how='inner')\n",
    "\n",
    "# If 'CustomerID' exists in both, use:\n",
    "# df_merged = pd.merge(df_rmf, df_full, on='CustomerID', how='inner')\n",
    "\n",
    "print(df_merged.head())\n"
   ]
  },
  {
   "cell_type": "code",
   "execution_count": 16,
   "metadata": {},
   "outputs": [
    {
     "data": {
      "text/plain": [
       "Index(['CustomerID_x', 'Gender_x', 'Age_x', 'LastTransactionDate',\n",
       "       'CurrentBalance_x', 'TransactionCount', 'TotalTransactionAmount',\n",
       "       'CustomerID_y', 'Gender_y', 'Age_y', 'CurrentBalance_y',\n",
       "       'LastTransactionDate.1', 'TransactionCount.1',\n",
       "       'TotalTransactionAmount.1', 'recency_days', 'R_Score', 'F_Score',\n",
       "       'M_Score', 'RMF_Score', 'RMF_Overall', 'Segment_Description'],\n",
       "      dtype='object')"
      ]
     },
     "execution_count": 16,
     "metadata": {},
     "output_type": "execute_result"
    }
   ],
   "source": [
    "df_merged.columns"
   ]
  },
  {
   "cell_type": "code",
   "execution_count": 17,
   "metadata": {},
   "outputs": [
    {
     "name": "stdout",
     "output_type": "stream",
     "text": [
      "<class 'pandas.core.frame.DataFrame'>\n",
      "RangeIndex: 173797 entries, 0 to 173796\n",
      "Data columns (total 21 columns):\n",
      " #   Column                    Non-Null Count   Dtype  \n",
      "---  ------                    --------------   -----  \n",
      " 0   CustomerID_x              173797 non-null  object \n",
      " 1   Gender_x                  173797 non-null  object \n",
      " 2   Age_x                     173797 non-null  int64  \n",
      " 3   LastTransactionDate       173797 non-null  object \n",
      " 4   CurrentBalance_x          173797 non-null  float64\n",
      " 5   TransactionCount          173797 non-null  int64  \n",
      " 6   TotalTransactionAmount    173797 non-null  float64\n",
      " 7   CustomerID_y              173797 non-null  object \n",
      " 8   Gender_y                  173797 non-null  object \n",
      " 9   Age_y                     173797 non-null  int64  \n",
      " 10  CurrentBalance_y          173797 non-null  float64\n",
      " 11  LastTransactionDate.1     173797 non-null  object \n",
      " 12  TransactionCount.1        173797 non-null  int64  \n",
      " 13  TotalTransactionAmount.1  173797 non-null  float64\n",
      " 14  recency_days              173797 non-null  int64  \n",
      " 15  R_Score                   173797 non-null  int64  \n",
      " 16  F_Score                   173797 non-null  int64  \n",
      " 17  M_Score                   173797 non-null  int64  \n",
      " 18  RMF_Score                 173797 non-null  int64  \n",
      " 19  RMF_Overall               173797 non-null  float64\n",
      " 20  Segment_Description       173797 non-null  object \n",
      "dtypes: float64(5), int64(9), object(7)\n",
      "memory usage: 27.8+ MB\n"
     ]
    }
   ],
   "source": [
    "df_merged.info()\n"
   ]
  },
  {
   "cell_type": "code",
   "execution_count": 18,
   "metadata": {},
   "outputs": [],
   "source": [
    "df_merged.to_csv('data/output_merged.csv', index=False)"
   ]
  },
  {
   "cell_type": "code",
   "execution_count": 19,
   "metadata": {},
   "outputs": [
    {
     "data": {
      "text/plain": [
       "(173797, 21)"
      ]
     },
     "execution_count": 19,
     "metadata": {},
     "output_type": "execute_result"
    }
   ],
   "source": [
    "df_merged.shape"
   ]
  },
  {
   "cell_type": "code",
   "execution_count": 20,
   "metadata": {},
   "outputs": [
    {
     "name": "stdout",
     "output_type": "stream",
     "text": [
      "15931\n",
      "527885\n"
     ]
    }
   ],
   "source": [
    "print(rmf.duplicated(subset=['LastTransactionDate', 'TransactionCount', 'TotalTransactionAmount']).sum())\n",
    "print(full.duplicated(subset=['LastTransactionDate', 'TransactionCount', 'TotalTransactionAmount']).sum())\n"
   ]
  },
  {
   "cell_type": "code",
   "execution_count": 21,
   "metadata": {},
   "outputs": [],
   "source": [
    "new = pd.read_csv('rmf_results.csv')"
   ]
  },
  {
   "cell_type": "code",
   "execution_count": 22,
   "metadata": {},
   "outputs": [
    {
     "data": {
      "text/html": [
       "<div>\n",
       "<style scoped>\n",
       "    .dataframe tbody tr th:only-of-type {\n",
       "        vertical-align: middle;\n",
       "    }\n",
       "\n",
       "    .dataframe tbody tr th {\n",
       "        vertical-align: top;\n",
       "    }\n",
       "\n",
       "    .dataframe thead th {\n",
       "        text-align: right;\n",
       "    }\n",
       "</style>\n",
       "<table border=\"1\" class=\"dataframe\">\n",
       "  <thead>\n",
       "    <tr style=\"text-align: right;\">\n",
       "      <th></th>\n",
       "      <th>CustomerID</th>\n",
       "      <th>Gender</th>\n",
       "      <th>Age</th>\n",
       "      <th>LastTransactionDate</th>\n",
       "      <th>CurrentBalance</th>\n",
       "      <th>TransactionCount</th>\n",
       "      <th>TotalTransactionAmount</th>\n",
       "      <th>LastTransactionDate.1</th>\n",
       "      <th>TransactionCount.1</th>\n",
       "      <th>TotalTransactionAmount.1</th>\n",
       "      <th>recency_days</th>\n",
       "      <th>R_Score</th>\n",
       "      <th>F_Score</th>\n",
       "      <th>M_Score</th>\n",
       "      <th>RMF_Score</th>\n",
       "      <th>RMF_Overall</th>\n",
       "      <th>Segment_Description</th>\n",
       "    </tr>\n",
       "  </thead>\n",
       "  <tbody>\n",
       "    <tr>\n",
       "      <th>0</th>\n",
       "      <td>C6624352</td>\n",
       "      <td>M</td>\n",
       "      <td>34</td>\n",
       "      <td>2016-09-27</td>\n",
       "      <td>152832.32</td>\n",
       "      <td>6</td>\n",
       "      <td>8375.74</td>\n",
       "      <td>2016-09-27</td>\n",
       "      <td>6</td>\n",
       "      <td>8375.74</td>\n",
       "      <td>73</td>\n",
       "      <td>4</td>\n",
       "      <td>5</td>\n",
       "      <td>5</td>\n",
       "      <td>455</td>\n",
       "      <td>4.666667</td>\n",
       "      <td>Champions</td>\n",
       "    </tr>\n",
       "    <tr>\n",
       "      <th>1</th>\n",
       "      <td>C3226689</td>\n",
       "      <td>M</td>\n",
       "      <td>26</td>\n",
       "      <td>2016-09-30</td>\n",
       "      <td>96820.46</td>\n",
       "      <td>6</td>\n",
       "      <td>14758.39</td>\n",
       "      <td>2016-09-30</td>\n",
       "      <td>6</td>\n",
       "      <td>14758.39</td>\n",
       "      <td>70</td>\n",
       "      <td>4</td>\n",
       "      <td>5</td>\n",
       "      <td>5</td>\n",
       "      <td>455</td>\n",
       "      <td>4.666667</td>\n",
       "      <td>Champions</td>\n",
       "    </tr>\n",
       "    <tr>\n",
       "      <th>2</th>\n",
       "      <td>C1026833</td>\n",
       "      <td>M</td>\n",
       "      <td>22</td>\n",
       "      <td>2016-08-31</td>\n",
       "      <td>118800.14</td>\n",
       "      <td>6</td>\n",
       "      <td>3336.00</td>\n",
       "      <td>2016-08-31</td>\n",
       "      <td>6</td>\n",
       "      <td>3336.00</td>\n",
       "      <td>100</td>\n",
       "      <td>3</td>\n",
       "      <td>5</td>\n",
       "      <td>4</td>\n",
       "      <td>354</td>\n",
       "      <td>4.000000</td>\n",
       "      <td>Champions</td>\n",
       "    </tr>\n",
       "    <tr>\n",
       "      <th>3</th>\n",
       "      <td>C6222360</td>\n",
       "      <td>F</td>\n",
       "      <td>24</td>\n",
       "      <td>2016-12-09</td>\n",
       "      <td>5270.90</td>\n",
       "      <td>6</td>\n",
       "      <td>5825.00</td>\n",
       "      <td>2016-12-09</td>\n",
       "      <td>6</td>\n",
       "      <td>5825.00</td>\n",
       "      <td>0</td>\n",
       "      <td>5</td>\n",
       "      <td>5</td>\n",
       "      <td>5</td>\n",
       "      <td>555</td>\n",
       "      <td>5.000000</td>\n",
       "      <td>Champions</td>\n",
       "    </tr>\n",
       "    <tr>\n",
       "      <th>4</th>\n",
       "      <td>C6735477</td>\n",
       "      <td>M</td>\n",
       "      <td>26</td>\n",
       "      <td>2016-12-09</td>\n",
       "      <td>12729.49</td>\n",
       "      <td>6</td>\n",
       "      <td>2504.00</td>\n",
       "      <td>2016-12-09</td>\n",
       "      <td>6</td>\n",
       "      <td>2504.00</td>\n",
       "      <td>0</td>\n",
       "      <td>5</td>\n",
       "      <td>5</td>\n",
       "      <td>4</td>\n",
       "      <td>554</td>\n",
       "      <td>4.666667</td>\n",
       "      <td>Champions</td>\n",
       "    </tr>\n",
       "  </tbody>\n",
       "</table>\n",
       "</div>"
      ],
      "text/plain": [
       "  CustomerID Gender  Age LastTransactionDate  CurrentBalance  \\\n",
       "0   C6624352      M   34          2016-09-27       152832.32   \n",
       "1   C3226689      M   26          2016-09-30        96820.46   \n",
       "2   C1026833      M   22          2016-08-31       118800.14   \n",
       "3   C6222360      F   24          2016-12-09         5270.90   \n",
       "4   C6735477      M   26          2016-12-09        12729.49   \n",
       "\n",
       "   TransactionCount  TotalTransactionAmount LastTransactionDate.1  \\\n",
       "0                 6                 8375.74            2016-09-27   \n",
       "1                 6                14758.39            2016-09-30   \n",
       "2                 6                 3336.00            2016-08-31   \n",
       "3                 6                 5825.00            2016-12-09   \n",
       "4                 6                 2504.00            2016-12-09   \n",
       "\n",
       "   TransactionCount.1  TotalTransactionAmount.1  recency_days  R_Score  \\\n",
       "0                   6                   8375.74            73        4   \n",
       "1                   6                  14758.39            70        4   \n",
       "2                   6                   3336.00           100        3   \n",
       "3                   6                   5825.00             0        5   \n",
       "4                   6                   2504.00             0        5   \n",
       "\n",
       "   F_Score  M_Score  RMF_Score  RMF_Overall Segment_Description  \n",
       "0        5        5        455     4.666667           Champions  \n",
       "1        5        5        455     4.666667           Champions  \n",
       "2        5        4        354     4.000000           Champions  \n",
       "3        5        5        555     5.000000           Champions  \n",
       "4        5        4        554     4.666667           Champions  "
      ]
     },
     "execution_count": 22,
     "metadata": {},
     "output_type": "execute_result"
    }
   ],
   "source": [
    "new.head()"
   ]
  },
  {
   "cell_type": "code",
   "execution_count": 23,
   "metadata": {},
   "outputs": [],
   "source": [
    "new_df = new[['CustomerID', 'Gender', 'Age','CurrentBalance', 'LastTransactionDate', 'TransactionCount', 'TotalTransactionAmount', 'R_Score', 'F_Score', 'M_Score','RMF_Score']]\n"
   ]
  },
  {
   "cell_type": "code",
   "execution_count": 24,
   "metadata": {},
   "outputs": [
    {
     "data": {
      "text/html": [
       "<div>\n",
       "<style scoped>\n",
       "    .dataframe tbody tr th:only-of-type {\n",
       "        vertical-align: middle;\n",
       "    }\n",
       "\n",
       "    .dataframe tbody tr th {\n",
       "        vertical-align: top;\n",
       "    }\n",
       "\n",
       "    .dataframe thead th {\n",
       "        text-align: right;\n",
       "    }\n",
       "</style>\n",
       "<table border=\"1\" class=\"dataframe\">\n",
       "  <thead>\n",
       "    <tr style=\"text-align: right;\">\n",
       "      <th></th>\n",
       "      <th>CustomerID</th>\n",
       "      <th>Gender</th>\n",
       "      <th>Age</th>\n",
       "      <th>CurrentBalance</th>\n",
       "      <th>LastTransactionDate</th>\n",
       "      <th>TransactionCount</th>\n",
       "      <th>TotalTransactionAmount</th>\n",
       "      <th>R_Score</th>\n",
       "      <th>F_Score</th>\n",
       "      <th>M_Score</th>\n",
       "      <th>RMF_Score</th>\n",
       "    </tr>\n",
       "  </thead>\n",
       "  <tbody>\n",
       "    <tr>\n",
       "      <th>0</th>\n",
       "      <td>C6624352</td>\n",
       "      <td>M</td>\n",
       "      <td>34</td>\n",
       "      <td>152832.32</td>\n",
       "      <td>2016-09-27</td>\n",
       "      <td>6</td>\n",
       "      <td>8375.74</td>\n",
       "      <td>4</td>\n",
       "      <td>5</td>\n",
       "      <td>5</td>\n",
       "      <td>455</td>\n",
       "    </tr>\n",
       "    <tr>\n",
       "      <th>1</th>\n",
       "      <td>C3226689</td>\n",
       "      <td>M</td>\n",
       "      <td>26</td>\n",
       "      <td>96820.46</td>\n",
       "      <td>2016-09-30</td>\n",
       "      <td>6</td>\n",
       "      <td>14758.39</td>\n",
       "      <td>4</td>\n",
       "      <td>5</td>\n",
       "      <td>5</td>\n",
       "      <td>455</td>\n",
       "    </tr>\n",
       "    <tr>\n",
       "      <th>2</th>\n",
       "      <td>C1026833</td>\n",
       "      <td>M</td>\n",
       "      <td>22</td>\n",
       "      <td>118800.14</td>\n",
       "      <td>2016-08-31</td>\n",
       "      <td>6</td>\n",
       "      <td>3336.00</td>\n",
       "      <td>3</td>\n",
       "      <td>5</td>\n",
       "      <td>4</td>\n",
       "      <td>354</td>\n",
       "    </tr>\n",
       "    <tr>\n",
       "      <th>3</th>\n",
       "      <td>C6222360</td>\n",
       "      <td>F</td>\n",
       "      <td>24</td>\n",
       "      <td>5270.90</td>\n",
       "      <td>2016-12-09</td>\n",
       "      <td>6</td>\n",
       "      <td>5825.00</td>\n",
       "      <td>5</td>\n",
       "      <td>5</td>\n",
       "      <td>5</td>\n",
       "      <td>555</td>\n",
       "    </tr>\n",
       "    <tr>\n",
       "      <th>4</th>\n",
       "      <td>C6735477</td>\n",
       "      <td>M</td>\n",
       "      <td>26</td>\n",
       "      <td>12729.49</td>\n",
       "      <td>2016-12-09</td>\n",
       "      <td>6</td>\n",
       "      <td>2504.00</td>\n",
       "      <td>5</td>\n",
       "      <td>5</td>\n",
       "      <td>4</td>\n",
       "      <td>554</td>\n",
       "    </tr>\n",
       "  </tbody>\n",
       "</table>\n",
       "</div>"
      ],
      "text/plain": [
       "  CustomerID Gender  Age  CurrentBalance LastTransactionDate  \\\n",
       "0   C6624352      M   34       152832.32          2016-09-27   \n",
       "1   C3226689      M   26        96820.46          2016-09-30   \n",
       "2   C1026833      M   22       118800.14          2016-08-31   \n",
       "3   C6222360      F   24         5270.90          2016-12-09   \n",
       "4   C6735477      M   26        12729.49          2016-12-09   \n",
       "\n",
       "   TransactionCount  TotalTransactionAmount  R_Score  F_Score  M_Score  \\\n",
       "0                 6                 8375.74        4        5        5   \n",
       "1                 6                14758.39        4        5        5   \n",
       "2                 6                 3336.00        3        5        4   \n",
       "3                 6                 5825.00        5        5        5   \n",
       "4                 6                 2504.00        5        5        4   \n",
       "\n",
       "   RMF_Score  \n",
       "0        455  \n",
       "1        455  \n",
       "2        354  \n",
       "3        555  \n",
       "4        554  "
      ]
     },
     "execution_count": 24,
     "metadata": {},
     "output_type": "execute_result"
    }
   ],
   "source": [
    "new_df.head()\n"
   ]
  },
  {
   "cell_type": "code",
   "execution_count": 25,
   "metadata": {},
   "outputs": [
    {
     "name": "stdout",
     "output_type": "stream",
     "text": [
      "<class 'pandas.core.frame.DataFrame'>\n",
      "RangeIndex: 100000 entries, 0 to 99999\n",
      "Data columns (total 11 columns):\n",
      " #   Column                  Non-Null Count   Dtype  \n",
      "---  ------                  --------------   -----  \n",
      " 0   CustomerID              100000 non-null  object \n",
      " 1   Gender                  100000 non-null  object \n",
      " 2   Age                     100000 non-null  int64  \n",
      " 3   CurrentBalance          100000 non-null  float64\n",
      " 4   LastTransactionDate     100000 non-null  object \n",
      " 5   TransactionCount        100000 non-null  int64  \n",
      " 6   TotalTransactionAmount  100000 non-null  float64\n",
      " 7   R_Score                 100000 non-null  int64  \n",
      " 8   F_Score                 100000 non-null  int64  \n",
      " 9   M_Score                 100000 non-null  int64  \n",
      " 10  RMF_Score               100000 non-null  int64  \n",
      "dtypes: float64(2), int64(6), object(3)\n",
      "memory usage: 8.4+ MB\n"
     ]
    }
   ],
   "source": [
    "new_df.info()\n"
   ]
  },
  {
   "cell_type": "code",
   "execution_count": 26,
   "metadata": {},
   "outputs": [],
   "source": [
    "new_df.to_csv('data/rmf_results_100K.csv', index=False)"
   ]
  },
  {
   "cell_type": "code",
   "execution_count": 27,
   "metadata": {},
   "outputs": [
    {
     "data": {
      "text/plain": [
       "F_Score\n",
       "1    84284\n",
       "4    14257\n",
       "5     1459\n",
       "Name: count, dtype: int64"
      ]
     },
     "execution_count": 27,
     "metadata": {},
     "output_type": "execute_result"
    }
   ],
   "source": [
    "new_df.F_Score.value_counts()"
   ]
  },
  {
   "cell_type": "code",
   "execution_count": 28,
   "metadata": {},
   "outputs": [
    {
     "data": {
      "text/plain": [
       "R_Score\n",
       "5    21798\n",
       "3    19991\n",
       "1    19807\n",
       "2    19224\n",
       "4    19180\n",
       "Name: count, dtype: int64"
      ]
     },
     "execution_count": 28,
     "metadata": {},
     "output_type": "execute_result"
    }
   ],
   "source": [
    "new_df.R_Score.value_counts()\n"
   ]
  },
  {
   "cell_type": "code",
   "execution_count": 29,
   "metadata": {},
   "outputs": [
    {
     "data": {
      "text/plain": [
       "M_Score\n",
       "4    20013\n",
       "2    20013\n",
       "1    20000\n",
       "5    19987\n",
       "3    19987\n",
       "Name: count, dtype: int64"
      ]
     },
     "execution_count": 29,
     "metadata": {},
     "output_type": "execute_result"
    }
   ],
   "source": [
    "new_df.M_Score.value_counts()\n"
   ]
  },
  {
   "cell_type": "code",
   "execution_count": 30,
   "metadata": {},
   "outputs": [
    {
     "data": {
      "text/plain": [
       "TransactionCount\n",
       "2    84284\n",
       "3    14257\n",
       "4     1346\n",
       "5      107\n",
       "6        6\n",
       "Name: count, dtype: int64"
      ]
     },
     "execution_count": 30,
     "metadata": {},
     "output_type": "execute_result"
    }
   ],
   "source": [
    "new_df.TransactionCount.value_counts()\n",
    "\n"
   ]
  },
  {
   "cell_type": "code",
   "execution_count": 31,
   "metadata": {},
   "outputs": [
    {
     "data": {
      "text/plain": [
       "TransactionCount\n",
       "2    84284\n",
       "3    14257\n",
       "4     1346\n",
       "5      107\n",
       "6        6\n",
       "Name: count, dtype: int64"
      ]
     },
     "execution_count": 31,
     "metadata": {},
     "output_type": "execute_result"
    }
   ],
   "source": [
    "new_df.TransactionCount.value_counts()"
   ]
  },
  {
   "cell_type": "code",
   "execution_count": null,
   "metadata": {},
   "outputs": [],
   "source": []
  }
 ],
 "metadata": {
  "kernelspec": {
   "display_name": "simple_ml_env",
   "language": "python",
   "name": "python3"
  },
  "language_info": {
   "codemirror_mode": {
    "name": "ipython",
    "version": 3
   },
   "file_extension": ".py",
   "mimetype": "text/x-python",
   "name": "python",
   "nbconvert_exporter": "python",
   "pygments_lexer": "ipython3",
   "version": "3.13.2"
  }
 },
 "nbformat": 4,
 "nbformat_minor": 2
}
